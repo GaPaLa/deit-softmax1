{
 "cells": [
  {
   "cell_type": "code",
   "execution_count": 10,
   "metadata": {},
   "outputs": [
    {
     "name": "stdout",
     "output_type": "stream",
     "text": [
      "Requirement already satisfied: torch in /media/gppl20/Debian_Portable/tmp/JUPYTER_P/python39.AppDir/opt/python3.9/lib/python3.9/site-packages (1.13.1+cu116)\n",
      "Requirement already satisfied: torchvision in /media/gppl20/Debian_Portable/tmp/JUPYTER_P/python39.AppDir/opt/python3.9/lib/python3.9/site-packages (0.14.1+cu116)\n",
      "Requirement already satisfied: timm in /media/gppl20/Debian_Portable/tmp/JUPYTER_P/python39.AppDir/opt/python3.9/lib/python3.9/site-packages (0.9.8)\n",
      "Requirement already satisfied: Pillow in /media/gppl20/Debian_Portable/tmp/JUPYTER_P/python39.AppDir/opt/python3.9/lib/python3.9/site-packages (10.0.1)\n",
      "Collecting submitit\n",
      "  Obtaining dependency information for submitit from https://files.pythonhosted.org/packages/84/d2/f620673750965ed7664560b6dc804cbd1e055fbb3b32d50a47f8617322c6/submitit-1.5.0-py3-none-any.whl.metadata\n",
      "  Downloading submitit-1.5.0-py3-none-any.whl.metadata (8.0 kB)\n",
      "Requirement already satisfied: typing-extensions in /media/gppl20/Debian_Portable/tmp/JUPYTER_P/python39.AppDir/opt/python3.9/lib/python3.9/site-packages (from torch) (4.8.0)\n",
      "Requirement already satisfied: numpy in /media/gppl20/Debian_Portable/tmp/JUPYTER_P/python39.AppDir/opt/python3.9/lib/python3.9/site-packages (from torchvision) (1.25.2)\n",
      "Requirement already satisfied: requests in /media/gppl20/Debian_Portable/tmp/JUPYTER_P/python39.AppDir/opt/python3.9/lib/python3.9/site-packages (from torchvision) (2.31.0)\n",
      "Requirement already satisfied: pyyaml in /media/gppl20/Debian_Portable/tmp/JUPYTER_P/python39.AppDir/opt/python3.9/lib/python3.9/site-packages (from timm) (6.0.1)\n",
      "Requirement already satisfied: huggingface-hub in /media/gppl20/Debian_Portable/tmp/JUPYTER_P/python39.AppDir/opt/python3.9/lib/python3.9/site-packages (from timm) (0.17.3)\n",
      "Requirement already satisfied: safetensors in /media/gppl20/Debian_Portable/tmp/JUPYTER_P/python39.AppDir/opt/python3.9/lib/python3.9/site-packages (from timm) (0.4.0)\n",
      "Collecting cloudpickle>=1.2.1 (from submitit)\n",
      "  Obtaining dependency information for cloudpickle>=1.2.1 from https://files.pythonhosted.org/packages/96/43/dae06432d0c4b1dc9e9149ad37b4ca8384cf6eb7700cd9215b177b914f0a/cloudpickle-3.0.0-py3-none-any.whl.metadata\n",
      "  Downloading cloudpickle-3.0.0-py3-none-any.whl.metadata (7.0 kB)\n",
      "Requirement already satisfied: filelock in /media/gppl20/Debian_Portable/tmp/JUPYTER_P/python39.AppDir/opt/python3.9/lib/python3.9/site-packages (from huggingface-hub->timm) (3.12.4)\n",
      "Requirement already satisfied: fsspec in /media/gppl20/Debian_Portable/tmp/JUPYTER_P/python39.AppDir/opt/python3.9/lib/python3.9/site-packages (from huggingface-hub->timm) (2023.9.2)\n",
      "Requirement already satisfied: tqdm>=4.42.1 in /media/gppl20/Debian_Portable/tmp/JUPYTER_P/python39.AppDir/opt/python3.9/lib/python3.9/site-packages (from huggingface-hub->timm) (4.66.1)\n",
      "Requirement already satisfied: packaging>=20.9 in /media/gppl20/Debian_Portable/tmp/JUPYTER_P/python39.AppDir/opt/python3.9/lib/python3.9/site-packages (from huggingface-hub->timm) (23.2)\n",
      "Requirement already satisfied: charset-normalizer<4,>=2 in /media/gppl20/Debian_Portable/tmp/JUPYTER_P/python39.AppDir/opt/python3.9/lib/python3.9/site-packages (from requests->torchvision) (3.3.0)\n",
      "Requirement already satisfied: idna<4,>=2.5 in /media/gppl20/Debian_Portable/tmp/JUPYTER_P/python39.AppDir/opt/python3.9/lib/python3.9/site-packages (from requests->torchvision) (3.4)\n",
      "Requirement already satisfied: urllib3<3,>=1.21.1 in /media/gppl20/Debian_Portable/tmp/JUPYTER_P/python39.AppDir/opt/python3.9/lib/python3.9/site-packages (from requests->torchvision) (2.0.6)\n",
      "Requirement already satisfied: certifi>=2017.4.17 in /media/gppl20/Debian_Portable/tmp/JUPYTER_P/python39.AppDir/opt/python3.9/lib/python3.9/site-packages (from requests->torchvision) (2023.7.22)\n",
      "Downloading submitit-1.5.0-py3-none-any.whl (74 kB)\n",
      "\u001b[2K   \u001b[38;2;114;156;31m━━━━━━━━━━━━━━━━━━━━━━━━━━━━━━━━━━━━━━━━\u001b[0m \u001b[32m74.4/74.4 kB\u001b[0m \u001b[31m5.6 MB/s\u001b[0m eta \u001b[36m0:00:00\u001b[0m\n",
      "\u001b[?25hDownloading cloudpickle-3.0.0-py3-none-any.whl (20 kB)\n",
      "Installing collected packages: cloudpickle, submitit\n",
      "Successfully installed cloudpickle-3.0.0 submitit-1.5.0\n",
      "\n",
      "\u001b[1m[\u001b[0m\u001b[34;49mnotice\u001b[0m\u001b[1;39;49m]\u001b[0m\u001b[39;49m A new release of pip is available: \u001b[0m\u001b[31;49m23.2.1\u001b[0m\u001b[39;49m -> \u001b[0m\u001b[32;49m23.3.1\u001b[0m\n",
      "\u001b[1m[\u001b[0m\u001b[34;49mnotice\u001b[0m\u001b[1;39;49m]\u001b[0m\u001b[39;49m To update, run: \u001b[0m\u001b[32;49m/media/gppl20/Debian_Portable/tmp/JUPYTER_P/python39.AppDir/usr/bin/python3.9 -m pip install --upgrade pip\u001b[0m\n"
     ]
    }
   ],
   "source": [
    "import sys\n",
    "!{sys.executable} -m pip install torch torchvision timm Pillow submitit"
   ]
  },
  {
   "cell_type": "code",
   "execution_count": 16,
   "metadata": {},
   "outputs": [
    {
     "name": "stdout",
     "output_type": "stream",
     "text": [
      "usage: Submitit for DeiT [-h] [--batch-size BATCH_SIZE] [--epochs EPOCHS]\n",
      "                         [--bce-loss] [--unscale-lr] [--model MODEL]\n",
      "                         [--input-size INPUT_SIZE] [--drop PCT]\n",
      "                         [--drop-path PCT] [--model-ema] [--no-model-ema]\n",
      "                         [--model-ema-decay MODEL_EMA_DECAY]\n",
      "                         [--model-ema-force-cpu] [--opt OPTIMIZER]\n",
      "                         [--opt-eps EPSILON] [--opt-betas BETA [BETA ...]]\n",
      "                         [--clip-grad NORM] [--momentum M]\n",
      "                         [--weight-decay WEIGHT_DECAY] [--sched SCHEDULER]\n",
      "                         [--lr LR] [--lr-noise pct, pct [pct, pct ...]]\n",
      "                         [--lr-noise-pct PERCENT] [--lr-noise-std STDDEV]\n",
      "                         [--warmup-lr LR] [--min-lr LR] [--decay-epochs N]\n",
      "                         [--warmup-epochs N] [--cooldown-epochs N]\n",
      "                         [--patience-epochs N] [--decay-rate RATE]\n",
      "                         [--color-jitter PCT] [--aa NAME]\n",
      "                         [--smoothing SMOOTHING]\n",
      "                         [--train-interpolation TRAIN_INTERPOLATION]\n",
      "                         [--repeated-aug] [--no-repeated-aug] [--train-mode]\n",
      "                         [--no-train-mode] [--ThreeAugment] [--src]\n",
      "                         [--reprob PCT] [--remode REMODE] [--recount RECOUNT]\n",
      "                         [--resplit] [--mixup MIXUP] [--cutmix CUTMIX]\n",
      "                         [--cutmix-minmax CUTMIX_MINMAX [CUTMIX_MINMAX ...]]\n",
      "                         [--mixup-prob MIXUP_PROB]\n",
      "                         [--mixup-switch-prob MIXUP_SWITCH_PROB]\n",
      "                         [--mixup-mode MIXUP_MODE] [--teacher-model MODEL]\n",
      "                         [--teacher-path TEACHER_PATH]\n",
      "                         [--distillation-type {none,soft,hard}]\n",
      "                         [--distillation-alpha DISTILLATION_ALPHA]\n",
      "                         [--distillation-tau DISTILLATION_TAU] [--cosub]\n",
      "                         [--finetune FINETUNE] [--attn-only]\n",
      "                         [--data-path DATA_PATH]\n",
      "                         [--data-set {CIFAR,IMNET,INAT,INAT19}]\n",
      "                         [--inat-category {kingdom,phylum,class,order,supercategory,family,genus,name}]\n",
      "                         [--output_dir OUTPUT_DIR] [--device DEVICE]\n",
      "                         [--seed SEED] [--resume RESUME] [--start_epoch N]\n",
      "                         [--eval] [--eval-crop-ratio EVAL_CROP_RATIO]\n",
      "                         [--dist-eval] [--num_workers NUM_WORKERS] [--pin-mem]\n",
      "                         [--no-pin-mem] [--distributed]\n",
      "                         [--world_size WORLD_SIZE] [--dist_url DIST_URL]\n",
      "                         [--softmax1_attn]\n",
      "                         [--save_nth_epoch CHECKPOINT_EPOCHS]\n",
      "                         [--plot-patch-norms] [--plot-attention-maps]\n",
      "                         [--save-losses] [--ngpus NGPUS] [--nodes NODES]\n",
      "                         [--timeout TIMEOUT] [--job_dir JOB_DIR]\n",
      "                         [--partition PARTITION] [--use_volta32]\n",
      "                         [--comment COMMENT]\n",
      "Submitit for DeiT: error: unrecognized arguments: --output-dir /tmp/job\n"
     ]
    }
   ],
   "source": [
    "\n",
    "!{sys.executable} run_with_submitit.py --model deit_base_patch16_LS --data-path /media/gppl20/NTFS_portable/imagenet1k --output_dir /tmp/job --batch 256 --lr 3e-3 --epochs 800 --weight-decay 0.05 --sched cosine --input-size 192 --eval-crop-ratio 1.0 --reprob 0.0 --nodes 1 --ngpus 8 --smoothing 0.0 --warmup-epochs 5 --drop 0.0 --seed 0 --opt fusedlamb --warmup-lr 1e-6 --mixup .8 --drop-path 0.2 --cutmix 1.0 --unscale-lr --repeated-aug --bce-loss  --color-jitter 0.3 --ThreeAugment"
   ]
  },
  {
   "cell_type": "code",
   "execution_count": null,
   "metadata": {},
   "outputs": [],
   "source": [
    "--softmax1_attn"
   ]
  }
 ],
 "metadata": {
  "kernelspec": {
   "display_name": "Python 3 (ipykernel)",
   "language": "python",
   "name": "python3"
  },
  "language_info": {
   "codemirror_mode": {
    "name": "ipython",
    "version": 3
   },
   "file_extension": ".py",
   "mimetype": "text/x-python",
   "name": "python",
   "nbconvert_exporter": "python",
   "pygments_lexer": "ipython3",
   "version": "3.9.18"
  }
 },
 "nbformat": 4,
 "nbformat_minor": 2
}
